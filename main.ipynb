{
 "cells": [
  {
   "cell_type": "markdown",
   "metadata": {},
   "source": [
    "# Clustering on Fashion MNIST Dataset"
   ]
  },
  {
   "cell_type": "markdown",
   "metadata": {},
   "source": [
    "# K-Means Clustering Implementation"
   ]
  },
  {
   "cell_type": "code",
   "execution_count": 1,
   "metadata": {},
   "outputs": [
    {
     "name": "stderr",
     "output_type": "stream",
     "text": [
      "Using TensorFlow backend.\n"
     ]
    },
    {
     "name": "stdout",
     "output_type": "stream",
     "text": [
      "Number of clusters: 10\n",
      "KMeans Accuracy: 54.190000000000005 %\n",
      "\n",
      "Confusion Matrix is:\n",
      "\n",
      "\n",
      "[[3252    1   42   87    6    0  761    0    7    0]\n",
      " [   5 5178    1   32   10    0    4    0    2    0]\n",
      " [  79   66 3444   39 3414    0 1880    0   66    6]\n",
      " [ 489  239   12 3687  177    8  204    0  135   10]\n",
      " [ 342  216  294 1145 1346    0  465    0  156    7]\n",
      " [   0    0    0    0    0    0    0    0    0    0]\n",
      " [1699  293 1800  998  912 1472 2321    9 1224  156]\n",
      " [   5    0    2    0    0 3593    9 4642  219   98]\n",
      " [ 121    7  400   11  133    2  343    0 2922    1]\n",
      " [   8    0    5    1    2  925   13 1349 1269 5722]]\n",
      "\n",
      "\n"
     ]
    }
   ],
   "source": [
    "#Importing the required packages\n",
    "import sklearn\n",
    "from sklearn.cluster import MiniBatchKMeans\n",
    "import sys\n",
    "import tensorflow as tf\n",
    "import numpy as np\n",
    "from sklearn.cluster import KMeans\n",
    "from sklearn.metrics import accuracy_score, confusion_matrix, normalized_mutual_info_score\n",
    "from keras.datasets import mnist\n",
    "\n",
    "#Loading the fashion mnist dataset\n",
    "(x_train, y_train),(x_test, y_test)=tf.keras.datasets.fashion_mnist.load_data()\n",
    "\n",
    "#Reshaping and normalizing the data\n",
    "x=np.concatenate((x_train, x_test))\n",
    "y=np.concatenate((y_train, y_test))\n",
    "x=x_train.reshape((x_train.shape[0],-1))\n",
    "x=np.divide(x.astype(float),255)\n",
    "\n",
    "# Initialize KMeans model\n",
    "kmeans = KMeans(n_clusters = 10)\n",
    "\n",
    "# Fit the kmeans model on to the training data\n",
    "kmeans.fit(x)\n",
    "\n",
    "# Associates most probable label with each cluster in KMeans model\n",
    "def infer_cluster_labels(kmeans, actual_labels):\n",
    "\n",
    "    inferred_labels = {}\n",
    "    for i in range(kmeans.n_clusters):\n",
    "\n",
    "        # find index of points in cluster\n",
    "        labels = []\n",
    "        index = np.where(kmeans.labels_ == i)\n",
    "\n",
    "        # append actual labels for each point in cluster\n",
    "        labels.append(actual_labels[index])\n",
    "\n",
    "        # determine most common label\n",
    "        if len(labels[0]) == 1:\n",
    "            counts = np.bincount(labels[0])\n",
    "        else:\n",
    "            counts = np.bincount(np.squeeze(labels))\n",
    "\n",
    "        # assign the cluster to a value in the inferred_labels dictionary\n",
    "        if np.argmax(counts) in inferred_labels:\n",
    "            # append the new number to the existing array at this slot\n",
    "            inferred_labels[np.argmax(counts)].append(i)\n",
    "        else:\n",
    "            # create a new array in this slot\n",
    "            inferred_labels[np.argmax(counts)] = [i]\n",
    "        \n",
    "    return inferred_labels  \n",
    "\n",
    "#Determines the label for each array,depending on the cluster it has been assigned to\n",
    "def infer_data_labels(X_labels, cluster_labels):\n",
    "    \n",
    "    # empty array of len(X)\n",
    "    predicted_labels = np.zeros(len(X_labels)).astype(np.uint8)\n",
    "    \n",
    "    for i, cluster in enumerate(X_labels):\n",
    "        for key, value in cluster_labels.items():\n",
    "            if cluster in value:\n",
    "                predicted_labels[i] = key\n",
    "                \n",
    "    return predicted_labels\n",
    "\n",
    "# test the infer_cluster_labels() and infer_data_labels() functions\n",
    "n_clusters_count=10\n",
    "cluster_labels = infer_cluster_labels(kmeans, y_train)\n",
    "X_clusters = kmeans.predict(x)\n",
    "predicted_labels = infer_data_labels(X_clusters, cluster_labels)\n",
    "from sklearn import metrics\n",
    "    \n",
    "print(\"Number of clusters:\",n_clusters_count)\n",
    "\n",
    "estimator = MiniBatchKMeans(n_clusters = n_clusters_count)\n",
    "estimator.fit(x)\n",
    "    \n",
    "# finding the predicted data\n",
    "cluster_labels_value = infer_cluster_labels(estimator, y_train)\n",
    "predicted_value = infer_data_labels(estimator.labels_, cluster_labels_value)\n",
    "    \n",
    "# calculating and print accuracy\n",
    "print('KMeans Accuracy: {} %\\n'.format(metrics.accuracy_score(y_train, predicted_value)*100))\n",
    "    \n",
    "#calculate confusion matrix\n",
    "print(\"Confusion Matrix is:\")\n",
    "print(\"\\n\")\n",
    "confusion_matrix_data=confusion_matrix(predicted_value,y_train)\n",
    "print(confusion_matrix_data)\n",
    "print(\"\\n\")"
   ]
  },
  {
   "cell_type": "markdown",
   "metadata": {},
   "source": [
    "# Auto-Encoder based K-Means clustering"
   ]
  },
  {
   "cell_type": "code",
   "execution_count": 2,
   "metadata": {},
   "outputs": [],
   "source": [
    "from sklearn.model_selection import train_test_split\n",
    "\n",
    "#Reshaping and normalizing the data\n",
    "x_train=x_train.reshape(-1,28,28,1)/255\n",
    "x_test=x_test.reshape(-1,28,28,1)/255\n",
    "\n",
    "x_train, x_validate, y_train, y_validate = train_test_split(x_train, y_train, test_size=0.2, stratify=y_train, random_state=123)"
   ]
  },
  {
   "cell_type": "code",
   "execution_count": 3,
   "metadata": {},
   "outputs": [
    {
     "name": "stdout",
     "output_type": "stream",
     "text": [
      "Model: \"sequential_1\"\n",
      "_________________________________________________________________\n",
      "Layer (type)                 Output Shape              Param #   \n",
      "=================================================================\n",
      "conv2d_1 (Conv2D)            (None, 28, 28, 14)        140       \n",
      "_________________________________________________________________\n",
      "max_pooling2d_1 (MaxPooling2 (None, 14, 14, 14)        0         \n",
      "_________________________________________________________________\n",
      "dropout_1 (Dropout)          (None, 14, 14, 14)        0         \n",
      "_________________________________________________________________\n",
      "conv2d_2 (Conv2D)            (None, 14, 14, 7)         889       \n",
      "_________________________________________________________________\n",
      "max_pooling2d_2 (MaxPooling2 (None, 7, 7, 7)           0         \n",
      "_________________________________________________________________\n",
      "dropout_2 (Dropout)          (None, 7, 7, 7)           0         \n",
      "_________________________________________________________________\n",
      "conv2d_3 (Conv2D)            (None, 7, 7, 7)           448       \n",
      "_________________________________________________________________\n",
      "up_sampling2d_1 (UpSampling2 (None, 14, 14, 7)         0         \n",
      "_________________________________________________________________\n",
      "dropout_3 (Dropout)          (None, 14, 14, 7)         0         \n",
      "_________________________________________________________________\n",
      "conv2d_4 (Conv2D)            (None, 14, 14, 14)        896       \n",
      "_________________________________________________________________\n",
      "up_sampling2d_2 (UpSampling2 (None, 28, 28, 14)        0         \n",
      "_________________________________________________________________\n",
      "dropout_4 (Dropout)          (None, 28, 28, 14)        0         \n",
      "_________________________________________________________________\n",
      "conv2d_5 (Conv2D)            (None, 28, 28, 1)         127       \n",
      "=================================================================\n",
      "Total params: 2,500\n",
      "Trainable params: 2,500\n",
      "Non-trainable params: 0\n",
      "_________________________________________________________________\n"
     ]
    }
   ],
   "source": [
    "# Build the autoencoder\n",
    "import numpy as np\n",
    "import os\n",
    "import matplotlib.pyplot as plt\n",
    "from sklearn.model_selection import train_test_split\n",
    "from sklearn.metrics import classification_report\n",
    "import keras\n",
    "from keras.models import Sequential\n",
    "from keras.layers import Dense, Dropout, Conv2D, MaxPool2D, UpSampling2D, Activation\n",
    "from keras import backend as K\n",
    "from sklearn.cluster import KMeans\n",
    "from sklearn.metrics import confusion_matrix\n",
    "# import seaborn as sns\n",
    "model = Sequential()\n",
    "model.add(Conv2D(14, kernel_size=3, padding='same', activation='relu', input_shape=(28,28,1)))\n",
    "model.add(MaxPool2D((2,2), padding='same'))\n",
    "model.add(Dropout(0.2))\n",
    "model.add(Conv2D(7, kernel_size=3, padding='same', activation='relu'))\n",
    "model.add(MaxPool2D((2,2), padding='same'))\n",
    "model.add(Dropout(0.2))\n",
    "model.add(Conv2D(7, kernel_size=3, padding='same', activation='relu'))\n",
    "model.add(UpSampling2D((2,2)))\n",
    "model.add(Dropout(0.2))\n",
    "model.add(Conv2D(14, kernel_size=3, padding='same', activation='relu'))\n",
    "model.add(UpSampling2D((2,2)))\n",
    "model.add(Dropout(0.2))\n",
    "model.add(Conv2D(1, kernel_size=3, padding='same', activation='relu'))\n",
    "\n",
    "model.compile(optimizer='sgd', loss=\"mse\")\n",
    "model.summary()"
   ]
  },
  {
   "cell_type": "code",
   "execution_count": 4,
   "metadata": {},
   "outputs": [
    {
     "name": "stdout",
     "output_type": "stream",
     "text": [
      "Train on 48000 samples, validate on 12000 samples\n",
      "Epoch 1/10\n",
      "48000/48000 [==============================] - 72s 1ms/step - loss: 0.0824 - val_loss: 0.0627\n",
      "Epoch 2/10\n",
      "48000/48000 [==============================] - 73s 2ms/step - loss: 0.0642 - val_loss: 0.0609\n",
      "Epoch 3/10\n",
      "48000/48000 [==============================] - 71s 1ms/step - loss: 0.0597 - val_loss: 0.0602\n",
      "Epoch 4/10\n",
      "48000/48000 [==============================] - 77s 2ms/step - loss: 0.0571 - val_loss: 0.0589\n",
      "Epoch 5/10\n",
      "48000/48000 [==============================] - 79s 2ms/step - loss: 0.0551 - val_loss: 0.0577\n",
      "Epoch 6/10\n",
      "48000/48000 [==============================] - 79s 2ms/step - loss: 0.0535 - val_loss: 0.0565\n",
      "Epoch 7/10\n",
      "48000/48000 [==============================] - 72s 2ms/step - loss: 0.0519 - val_loss: 0.0551\n",
      "Epoch 8/10\n",
      "48000/48000 [==============================] - 72s 1ms/step - loss: 0.0506 - val_loss: 0.0534\n",
      "Epoch 9/10\n",
      "48000/48000 [==============================] - 72s 1ms/step - loss: 0.0495 - val_loss: 0.0524\n",
      "Epoch 10/10\n",
      "48000/48000 [==============================] - 73s 2ms/step - loss: 0.0485 - val_loss: 0.0513\n"
     ]
    }
   ],
   "source": [
    "# Train the model\n",
    "epochs_final=10\n",
    "data=model.fit(x_train, x_train, epochs=epochs_final, batch_size=256, validation_data=(x_validate, x_validate), verbose=1)"
   ]
  },
  {
   "cell_type": "code",
   "execution_count": 5,
   "metadata": {},
   "outputs": [
    {
     "data": {
      "image/png": "[encoded data removed]",
      "text/plain": [
       "<Figure size 432x288 with 1 Axes>"
      ]
     },
     "metadata": {
      "needs_background": "light"
     },
     "output_type": "display_data"
    },
    {
     "data": {
      "image/png": "[encoded data removed]",
      "text/plain": [
       "<Figure size 432x288 with 1 Axes>"
      ]
     },
     "metadata": {
      "needs_background": "light"
     },
     "output_type": "display_data"
    }
   ],
   "source": [
    "#Plotting the graph for training loss versus epochs\n",
    "epoch=range(1,epochs_final+1)\n",
    "plt.plot(epoch,data.history['loss'])\n",
    "plt.xticks(epoch, rotation ='vertical')\n",
    "plt.title('Training loss vs epochs')\n",
    "plt.ylabel('Training loss')\n",
    "plt.xlabel('Epochs')\n",
    "plt.show()\n",
    "\n",
    "#Plotting the graph for validation loss versus epochs\n",
    "plt.plot(epoch,data.history['val_loss'])\n",
    "plt.xticks(epoch, rotation ='vertical')\n",
    "plt.title('Validation loss vs epochs')\n",
    "plt.ylabel('Validation loss')\n",
    "plt.xlabel('Epochs')\n",
    "plt.show()"
   ]
  },
  {
   "cell_type": "code",
   "execution_count": 6,
   "metadata": {},
   "outputs": [],
   "source": [
    "# Extract the encoder\n",
    "encoder = K.function([model.layers[0].input], [model.layers[4].output])\n",
    "\n",
    "# Encode the training set\n",
    "encoded_images = encoder([x_test])[0].reshape(-1,7*7*7)\n",
    "#encoded_images.shape"
   ]
  },
  {
   "cell_type": "code",
   "execution_count": 7,
   "metadata": {},
   "outputs": [
    {
     "name": "stdout",
     "output_type": "stream",
     "text": [
      "Confusion Matrix is:\n",
      "\n",
      "\n",
      "[[488   4   1   3   1 186 135  47  27 108]\n",
      " [  0   0   0   1   0  15  46   9 842  87]\n",
      " [  3   6   0   5   0 324  85 541   4  32]\n",
      " [  8   4   0   0   0  57 101  14 448 368]\n",
      " [  0   4   0   3   0 136  53 603  17 184]\n",
      " [  0   1 124   5 308   6 556   0   0   0]\n",
      " [ 87   1   0  12   0 295 156 318  18 113]\n",
      " [  0   0  43   4 881   0  72   0   0   0]\n",
      " [  1 404   1 359  62  30  71  64   5   3]\n",
      " [  0   1 829   4 134   3  24   3   0   2]]\n",
      "\n",
      "\n",
      "AutoEncoder based k-means clustering accuracy is: 56.39999999999999 %\n",
      "\n"
     ]
    }
   ],
   "source": [
    "# Cluster the training set\n",
    "kmeans_afterencoder = KMeans(n_clusters=10)\n",
    "clustered_training_set = kmeans_afterencoder.fit_predict(encoded_images)\n",
    "\n",
    "# Calculating Confusion Matrix\n",
    "print(\"Confusion Matrix is:\")\n",
    "print(\"\\n\")\n",
    "matrix_data = confusion_matrix(y_test, clustered_training_set)\n",
    "print(matrix_data)\n",
    "print(\"\\n\")\n",
    "\n",
    "estimator_encoder = KMeans(n_clusters=10)\n",
    "estimator_encoder.fit(encoded_images)\n",
    "\n",
    "# determining predicted values\n",
    "cluster_labels_AE_value = infer_cluster_labels(estimator_encoder, y_test)\n",
    "predicted_Y_AE_value = infer_data_labels(estimator_encoder.labels_, cluster_labels_AE_value)\n",
    "\n",
    "# calculate and print accuracy\n",
    "print('AutoEncoder based k-means clustering accuracy is: {} %\\n'.format(metrics.accuracy_score(y_test, predicted_Y_AE_value)*100))"
   ]
  },
  {
   "cell_type": "markdown",
   "metadata": {},
   "source": [
    "# Auto-Encoder based Gaussian Mixture Model Clustering"
   ]
  },
  {
   "cell_type": "code",
   "execution_count": 8,
   "metadata": {},
   "outputs": [],
   "source": [
    "from sklearn.mixture import GaussianMixture\n",
    "gmm = GaussianMixture(n_components=10)\n",
    "data1=gmm.fit(encoded_images)\n",
    "\n",
    "labels_GMM=gmm.fit_predict(encoded_images)"
   ]
  },
  {
   "cell_type": "code",
   "execution_count": 9,
   "metadata": {},
   "outputs": [],
   "source": [
    "#Associates most probable label with each cluster in KMeans model\n",
    "def infer_cluster_labels_GMM(gmm, actual_labels):\n",
    "    inferred_labels = {}\n",
    "\n",
    "    for i in range(gmm.n_components):\n",
    "\n",
    "        # find index of points in cluster\n",
    "        labels = []\n",
    "        index = np.where(labels_GMM == i)\n",
    "\n",
    "        # append actual labels for each point in cluster\n",
    "        labels.append(actual_labels[index])\n",
    "\n",
    "        # determine most common label\n",
    "        if len(labels[0]) == 1:\n",
    "            counts = np.bincount(labels[0])\n",
    "        else:\n",
    "            counts = np.bincount(np.squeeze(labels))\n",
    "\n",
    "        # assign the cluster to a value in the inferred_labels dictionary\n",
    "        if np.argmax(counts) in inferred_labels:\n",
    "            # append the new number to the existing array at this slot\n",
    "            inferred_labels[np.argmax(counts)].append(i)\n",
    "        else:\n",
    "            # create a new array in this slot\n",
    "            inferred_labels[np.argmax(counts)] = [i]\n",
    "        \n",
    "    return inferred_labels  \n",
    "\n",
    "# Determines label for each array, depending on the cluster it has been assigned to.\n",
    "def infer_data_labels_GMM(X_labels, cluster_labels):\n",
    "    \n",
    "    # empty array of len(X)\n",
    "    predicted_labels = np.zeros(len(X_labels)).astype(np.uint8)\n",
    "    \n",
    "    for i, cluster in enumerate(X_labels):\n",
    "        for key, value in cluster_labels.items():\n",
    "            if cluster in value:\n",
    "                predicted_labels[i] = key\n",
    "                \n",
    "    return predicted_labels\n"
   ]
  },
  {
   "cell_type": "code",
   "execution_count": 10,
   "metadata": {},
   "outputs": [
    {
     "name": "stdout",
     "output_type": "stream",
     "text": [
      "Gaussian Mixture Model Accuracy is: 55.96 %\n",
      "\n",
      "Confusion Matrix is:\n",
      "\n",
      "\n",
      "[[ 21  40   1  28   1  68 142 602  90   7]\n",
      " [  8   5   0   4   0 924   9   1  48   1]\n",
      " [431  44   0 239   0   5 250   7  16   8]\n",
      " [ 24  18   0   5   0 509  55   8 381   0]\n",
      " [601  32   0 141   0  14  83   0 123   6]\n",
      " [  0 244 600   0 146   0   7   0   0   3]\n",
      " [299  53   0 109   0  36 253 127 114   9]\n",
      " [  0   0 968   0  32   0   0   0   0   0]\n",
      " [  9  40  77  78   1  14 146   1   7 627]\n",
      " [  1   5 230   2 757   0   2   0   2   1]]\n"
     ]
    }
   ],
   "source": [
    "cluster_labels_GMM_value = infer_cluster_labels_GMM(gmm, y_test)\n",
    "predicted_Y_GMM_value = infer_data_labels_GMM(labels_GMM, cluster_labels_GMM_value)\n",
    "\n",
    "#Calculating accuracy\n",
    "print('Gaussian Mixture Model Accuracy is: {} %\\n'.format(metrics.accuracy_score(y_test, predicted_Y_GMM_value) *100))\n",
    "\n",
    "#Confusion matrix calculation\n",
    "print(\"Confusion Matrix is:\")\n",
    "print(\"\\n\")\n",
    "matrix_gmm = confusion_matrix(y_test, labels_GMM)\n",
    "print(matrix_gmm)"
   ]
  }
 ],
 "metadata": {
  "kernelspec": {
   "display_name": "Python 3",
   "language": "python",
   "name": "python3"
  },
  "language_info": {
   "codemirror_mode": {
    "name": "ipython",
    "version": 3
   },
   "file_extension": ".py",
   "mimetype": "text/x-python",
   "name": "python",
   "nbconvert_exporter": "python",
   "pygments_lexer": "ipython3",
   "version": "3.7.1"
  }
 },
 "nbformat": 4,
 "nbformat_minor": 2
}
